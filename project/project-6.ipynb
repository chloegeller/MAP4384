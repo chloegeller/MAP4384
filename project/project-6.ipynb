{
 "cells": [
  {
   "cell_type": "markdown",
   "metadata": {},
   "source": [
    "# Project VI - Solution of Initial Value Problems"
   ]
  },
  {
   "cell_type": "markdown",
   "metadata": {},
   "source": [
    "Consider the initial-value-problem:\n",
    "\n",
    "$$\n",
    "\\begin{align*}\n",
    "x^{''}(t)+2\\gamma x^{'}+\\omega^{2} x(t)=0 \\\\\n",
    "x(0)=x_0 \\\\ \n",
    "x^{'}(0)=\\gamma x_0\n",
    "\\end{align*}\n",
    "$$\n",
    "\n",
    "with $0 < \\gamma < \\omega$. It's solution is given by\n",
    "$$x(t)=x_0 e^{-\\gamma t} \\cos(\\beta t)$$\n",
    "\n",
    "where $\\beta = \\sqrt{\\omega^{2}-\\gamma^{2}}$. This equation can be written as a first order system, with $x^{'}=y$, and $y^{'}=-2\\gamma y - \\omega^2 x$."
   ]
  },
  {
   "cell_type": "markdown",
   "metadata": {},
   "source": [
    "## Your task"
   ]
  },
  {
   "cell_type": "markdown",
   "metadata": {},
   "source": [
    "### Explicit Midpoint\n",
    "\n",
    "Implement the Explicit Midpoint method (EMP) doing\n",
    "$$\\frac{x_{n+1}−x_{n−1}}{2h}=y_n\\\\\n",
    "\\frac{y_{n+1}−y_{n−1}}{2h}=−2\\gamma y_n− \\omega^2x_n $$"
   ]
  },
  {
   "cell_type": "markdown",
   "metadata": {},
   "source": [
    "### Implicit Midpoint\n",
    "\n",
    "Implement the Implicit Midpoint method (IMP) doing\n",
    "$$ \\frac{x_{n+1}−x_n}{h}=\\frac{y_{n+1}+y_n}{2}\\\\\n",
    "\\frac{y_{n+1}−y_n}{h}=−2\\gamma \\frac{y_{n+1}+y_n}{2}−\\omega^2\\frac{x_{n+1}+x_n}{2}$$"
   ]
  },
  {
   "cell_type": "markdown",
   "metadata": {},
   "source": [
    "### Non-Standard Implicit Midpoint\n",
    "\n",
    "Implement the Non-standard Implicit Midpoint method (NSIMP) doing\n",
    "$$\\frac{x_{n+1}−e^{−\\gamma h}x_n}{h}=\\frac{y_{n+1}+e^{−\\gamma h}y_n}{2}\\\\\n",
    "\\frac{y_{n+1}−e^{−\\gamma h}y_n}{h}=−\\omega^2\\frac{x_{n+1}+e^{−\\gamma h}x_n}{2}$$"
   ]
  },
  {
   "cell_type": "markdown",
   "metadata": {},
   "source": [
    " - All three methods are second order and they do not differ much in terms of computational cost; demonstrate this numerically.  I expect several table with the results.\n",
    "\n",
    " - For $\\gamma=0$  the  implicit  methods  are  equivalent,  and  we  expect  they  are  superior  to  the explicit method; check this numerically using long time simulations with varioush, $\\omega$, $x_0$.\n",
    "\n",
    "- Experiment on the long-time accuracy of the methods for small values of $γ>0$.\n",
    "\n",
    "- Run experiments to help you fully understand what happens to the approximations as $\\gamma$ increases.\n",
    "\n",
    "- If there is, in fact, a ’breaking point’ for any method asγincreases determine what it isand how it depends upon $h$ or $\\omega$."
   ]
  },
  {
   "cell_type": "code",
   "execution_count": null,
   "metadata": {},
   "outputs": [],
   "source": []
  }
 ],
 "metadata": {
  "kernelspec": {
   "display_name": "Python 3",
   "language": "python",
   "name": "python3"
  },
  "language_info": {
   "codemirror_mode": {
    "name": "ipython",
    "version": 3
   },
   "file_extension": ".py",
   "mimetype": "text/x-python",
   "name": "python",
   "nbconvert_exporter": "python",
   "pygments_lexer": "ipython3",
   "version": "3.7.9"
  }
 },
 "nbformat": 4,
 "nbformat_minor": 4
}
